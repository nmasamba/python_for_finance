{
 "cells": [
  {
   "cell_type": "code",
   "execution_count": 1,
   "metadata": {},
   "outputs": [],
   "source": [
    "\n",
    "import pandas as pd\n",
    "import numpy as np\n",
    "from scipy import stats"
   ]
  },
  {
   "cell_type": "code",
   "execution_count": 2,
   "metadata": {},
   "outputs": [],
   "source": [
    "def get_stock_series(path):\n",
    "    series = pd.read_csv(path)\n",
    "    return series"
   ]
  },
  {
   "cell_type": "code",
   "execution_count": 3,
   "metadata": {},
   "outputs": [
    {
     "data": {
      "text/html": [
       "<div>\n",
       "<style scoped>\n",
       "    .dataframe tbody tr th:only-of-type {\n",
       "        vertical-align: middle;\n",
       "    }\n",
       "\n",
       "    .dataframe tbody tr th {\n",
       "        vertical-align: top;\n",
       "    }\n",
       "\n",
       "    .dataframe thead th {\n",
       "        text-align: right;\n",
       "    }\n",
       "</style>\n",
       "<table border=\"1\" class=\"dataframe\">\n",
       "  <thead>\n",
       "    <tr style=\"text-align: right;\">\n",
       "      <th></th>\n",
       "      <th>Date</th>\n",
       "      <th>Open</th>\n",
       "      <th>High</th>\n",
       "      <th>Low</th>\n",
       "      <th>Close</th>\n",
       "      <th>Adj Close</th>\n",
       "      <th>Volume</th>\n",
       "    </tr>\n",
       "  </thead>\n",
       "  <tbody>\n",
       "    <tr>\n",
       "      <th>1259</th>\n",
       "      <td>2018-09-07</td>\n",
       "      <td>176.220001</td>\n",
       "      <td>176.279999</td>\n",
       "      <td>172.419998</td>\n",
       "      <td>174.500000</td>\n",
       "      <td>174.500000</td>\n",
       "      <td>55377621</td>\n",
       "    </tr>\n",
       "    <tr>\n",
       "      <th>1260</th>\n",
       "      <td>2018-09-10</td>\n",
       "      <td>174.639999</td>\n",
       "      <td>177.259995</td>\n",
       "      <td>173.500000</td>\n",
       "      <td>176.800003</td>\n",
       "      <td>176.800003</td>\n",
       "      <td>108272589</td>\n",
       "    </tr>\n",
       "    <tr>\n",
       "      <th>1261</th>\n",
       "      <td>2018-09-11</td>\n",
       "      <td>176.580002</td>\n",
       "      <td>176.800003</td>\n",
       "      <td>173.699997</td>\n",
       "      <td>174.740005</td>\n",
       "      <td>174.740005</td>\n",
       "      <td>46928387</td>\n",
       "    </tr>\n",
       "    <tr>\n",
       "      <th>1262</th>\n",
       "      <td>2018-09-12</td>\n",
       "      <td>174.500000</td>\n",
       "      <td>174.740005</td>\n",
       "      <td>171.740005</td>\n",
       "      <td>172.220001</td>\n",
       "      <td>172.220001</td>\n",
       "      <td>44363997</td>\n",
       "    </tr>\n",
       "    <tr>\n",
       "      <th>1263</th>\n",
       "      <td>2018-09-13</td>\n",
       "      <td>172.639999</td>\n",
       "      <td>174.320007</td>\n",
       "      <td>171.740005</td>\n",
       "      <td>172.199997</td>\n",
       "      <td>172.199997</td>\n",
       "      <td>37694060</td>\n",
       "    </tr>\n",
       "  </tbody>\n",
       "</table>\n",
       "</div>"
      ],
      "text/plain": [
       "            Date        Open        High         Low       Close   Adj Close  \\\n",
       "1259  2018-09-07  176.220001  176.279999  172.419998  174.500000  174.500000   \n",
       "1260  2018-09-10  174.639999  177.259995  173.500000  176.800003  176.800003   \n",
       "1261  2018-09-11  176.580002  176.800003  173.699997  174.740005  174.740005   \n",
       "1262  2018-09-12  174.500000  174.740005  171.740005  172.220001  172.220001   \n",
       "1263  2018-09-13  172.639999  174.320007  171.740005  172.199997  172.199997   \n",
       "\n",
       "         Volume  \n",
       "1259   55377621  \n",
       "1260  108272589  \n",
       "1261   46928387  \n",
       "1262   44363997  \n",
       "1263   37694060  "
      ]
     },
     "execution_count": 3,
     "metadata": {},
     "output_type": "execute_result"
    }
   ],
   "source": [
    "\n",
    "df1 = get_stock_series('market_data/BARC.L.csv')\n",
    "df1.tail()"
   ]
  },
  {
   "cell_type": "code",
   "execution_count": 4,
   "metadata": {},
   "outputs": [
    {
     "data": {
      "text/html": [
       "<div>\n",
       "<style scoped>\n",
       "    .dataframe tbody tr th:only-of-type {\n",
       "        vertical-align: middle;\n",
       "    }\n",
       "\n",
       "    .dataframe tbody tr th {\n",
       "        vertical-align: top;\n",
       "    }\n",
       "\n",
       "    .dataframe thead th {\n",
       "        text-align: right;\n",
       "    }\n",
       "</style>\n",
       "<table border=\"1\" class=\"dataframe\">\n",
       "  <thead>\n",
       "    <tr style=\"text-align: right;\">\n",
       "      <th></th>\n",
       "      <th>Date</th>\n",
       "      <th>Open</th>\n",
       "      <th>High</th>\n",
       "      <th>Low</th>\n",
       "      <th>Close</th>\n",
       "      <th>Adj Close</th>\n",
       "      <th>Volume</th>\n",
       "    </tr>\n",
       "  </thead>\n",
       "  <tbody>\n",
       "    <tr>\n",
       "      <th>3374</th>\n",
       "      <td>2018-01-12</td>\n",
       "      <td>1102.410034</td>\n",
       "      <td>1124.290039</td>\n",
       "      <td>1101.150024</td>\n",
       "      <td>1122.260010</td>\n",
       "      <td>1122.260010</td>\n",
       "      <td>1720500</td>\n",
       "    </tr>\n",
       "    <tr>\n",
       "      <th>3375</th>\n",
       "      <td>2018-01-16</td>\n",
       "      <td>1132.510010</td>\n",
       "      <td>1139.910034</td>\n",
       "      <td>1117.832031</td>\n",
       "      <td>1121.760010</td>\n",
       "      <td>1121.760010</td>\n",
       "      <td>1575300</td>\n",
       "    </tr>\n",
       "    <tr>\n",
       "      <th>3376</th>\n",
       "      <td>2018-01-17</td>\n",
       "      <td>1126.219971</td>\n",
       "      <td>1132.599976</td>\n",
       "      <td>1117.010010</td>\n",
       "      <td>1131.979980</td>\n",
       "      <td>1131.979980</td>\n",
       "      <td>1202600</td>\n",
       "    </tr>\n",
       "    <tr>\n",
       "      <th>3377</th>\n",
       "      <td>2018-01-18</td>\n",
       "      <td>1131.410034</td>\n",
       "      <td>1132.510010</td>\n",
       "      <td>1117.500000</td>\n",
       "      <td>1129.790039</td>\n",
       "      <td>1129.790039</td>\n",
       "      <td>1198200</td>\n",
       "    </tr>\n",
       "    <tr>\n",
       "      <th>3378</th>\n",
       "      <td>2018-01-19</td>\n",
       "      <td>1131.829956</td>\n",
       "      <td>1137.859985</td>\n",
       "      <td>1128.300049</td>\n",
       "      <td>1137.510010</td>\n",
       "      <td>1137.510010</td>\n",
       "      <td>1387700</td>\n",
       "    </tr>\n",
       "  </tbody>\n",
       "</table>\n",
       "</div>"
      ],
      "text/plain": [
       "            Date         Open         High          Low        Close  \\\n",
       "3374  2018-01-12  1102.410034  1124.290039  1101.150024  1122.260010   \n",
       "3375  2018-01-16  1132.510010  1139.910034  1117.832031  1121.760010   \n",
       "3376  2018-01-17  1126.219971  1132.599976  1117.010010  1131.979980   \n",
       "3377  2018-01-18  1131.410034  1132.510010  1117.500000  1129.790039   \n",
       "3378  2018-01-19  1131.829956  1137.859985  1128.300049  1137.510010   \n",
       "\n",
       "        Adj Close   Volume  \n",
       "3374  1122.260010  1720500  \n",
       "3375  1121.760010  1575300  \n",
       "3376  1131.979980  1202600  \n",
       "3377  1129.790039  1198200  \n",
       "3378  1137.510010  1387700  "
      ]
     },
     "execution_count": 4,
     "metadata": {},
     "output_type": "execute_result"
    }
   ],
   "source": [
    "\n",
    "df2 = get_stock_series('market_data/yahoofinance-GOOG-20040819-20180120.csv')\n",
    "df2.tail()"
   ]
  },
  {
   "cell_type": "code",
   "execution_count": 5,
   "metadata": {},
   "outputs": [],
   "source": [
    "\n",
    "def get_returns(df_name):\n",
    "    close_series = df_name['Adj Close']\n",
    "    returns_series = (close_series/close_series.shift(1)-1) * 100\n",
    "    return returns_series"
   ]
  },
  {
   "cell_type": "code",
   "execution_count": 6,
   "metadata": {},
   "outputs": [
    {
     "data": {
      "text/plain": [
       "0         NaN\n",
       "1   -2.095606\n",
       "2    0.362046\n",
       "3    0.396800\n",
       "4   -1.742714\n",
       "Name: Adj Close, dtype: float64"
      ]
     },
     "execution_count": 6,
     "metadata": {},
     "output_type": "execute_result"
    }
   ],
   "source": [
    "\n",
    "barc_ret = get_returns(df1)\n",
    "barc_ret[:5]"
   ]
  },
  {
   "cell_type": "code",
   "execution_count": 7,
   "metadata": {},
   "outputs": [
    {
     "data": {
      "text/plain": [
       "0         NaN\n",
       "1    7.942992\n",
       "2    1.006368\n",
       "3   -4.140765\n",
       "4    1.077523\n",
       "Name: Adj Close, dtype: float64"
      ]
     },
     "execution_count": 7,
     "metadata": {},
     "output_type": "execute_result"
    }
   ],
   "source": [
    "\n",
    "goog_ret = get_returns(df2)\n",
    "goog_ret[:5]"
   ]
  },
  {
   "cell_type": "code",
   "execution_count": 8,
   "metadata": {},
   "outputs": [
    {
     "data": {
      "text/plain": [
       "-0.012465268325037119"
      ]
     },
     "execution_count": 8,
     "metadata": {},
     "output_type": "execute_result"
    }
   ],
   "source": [
    "barc_mean = np.mean(barc_ret)\n",
    "barc_mean"
   ]
  },
  {
   "cell_type": "code",
   "execution_count": 9,
   "metadata": {},
   "outputs": [
    {
     "data": {
      "text/plain": [
       "0.11085664118743072"
      ]
     },
     "execution_count": 9,
     "metadata": {},
     "output_type": "execute_result"
    }
   ],
   "source": [
    "\n",
    "goog_mean = np.mean(goog_ret)\n",
    "goog_mean"
   ]
  },
  {
   "cell_type": "code",
   "execution_count": 11,
   "metadata": {},
   "outputs": [
    {
     "data": {
      "text/plain": [
       "Ttest_indResult(statistic=-1.9652749865821764, pvalue=0.04944202043811904)"
      ]
     },
     "execution_count": 11,
     "metadata": {},
     "output_type": "execute_result"
    }
   ],
   "source": [
    "\n",
    "# 2-sample t-test for BARC vs GOOG mean returns\n",
    "stats.ttest_ind(barc_ret[1:-1], goog_ret[1:-1])"
   ]
  },
  {
   "cell_type": "code",
   "execution_count": null,
   "metadata": {},
   "outputs": [],
   "source": [
    "\n",
    "# High t-statistic and low p-value (<alpha = 0.05) show there is a significant statistical difference between\n",
    "# the two distributions. We reject null hypothesis and conclude that there's a statistically \n",
    "# significant difference between the two returns series."
   ]
  }
 ],
 "metadata": {
  "kernelspec": {
   "display_name": "Python 3",
   "language": "python",
   "name": "python3"
  },
  "language_info": {
   "codemirror_mode": {
    "name": "ipython",
    "version": 3
   },
   "file_extension": ".py",
   "mimetype": "text/x-python",
   "name": "python",
   "nbconvert_exporter": "python",
   "pygments_lexer": "ipython3",
   "version": "3.6.5"
  }
 },
 "nbformat": 4,
 "nbformat_minor": 2
}

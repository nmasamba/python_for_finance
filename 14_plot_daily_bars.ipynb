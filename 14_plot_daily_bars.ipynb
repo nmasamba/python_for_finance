{
 "cells": [
  {
   "cell_type": "code",
   "execution_count": 2,
   "metadata": {},
   "outputs": [
    {
     "data": {
      "image/png": "[encoded data removed]",
      "text/plain": [
       "<Figure size 432x288 with 1 Axes>"
      ]
     },
     "metadata": {},
     "output_type": "display_data"
    }
   ],
   "source": [
    "import matplotlib.pyplot as plt\n",
    "import pandas as pd\n",
    "from matplotlib.dates import (MONDAY, DateFormatter, MonthLocator,\n",
    "                              WeekdayLocator, date2num)\n",
    "\n",
    "from mpl_finance import plot_day_summary_oclh\n",
    "\n",
    "date1 = \"2013-11-1\"\n",
    "date2 = \"2013-12-1\"\n",
    "\n",
    "# every monday\n",
    "mondays = WeekdayLocator(MONDAY)\n",
    "daysFmt = DateFormatter(\"%d %b %y\")\n",
    "\n",
    "\n",
    "quotes = pd.read_csv('market_data/yahoofinance-GOOG-20040819-20180120.csv',\n",
    "                     index_col=0,\n",
    "                     parse_dates=True,\n",
    "                     infer_datetime_format=True)\n",
    "\n",
    "# select desired range of dates\n",
    "quotes = quotes[(quotes.index >= date1) & (quotes.index <= date2)]\n",
    "\n",
    "\n",
    "fig, ax = plt.subplots()\n",
    "plot_day_summary_oclh(ax, zip(date2num(quotes.index.to_pydatetime()),\n",
    "                              quotes['Open'], quotes['Close'],\n",
    "                              quotes['Low'], quotes['High']),\n",
    "                      ticksize=3)\n",
    "ax.xaxis.set_major_locator(mondays)\n",
    "ax.xaxis.set_major_formatter(daysFmt)\n",
    "ax.autoscale_view()\n",
    "ax.xaxis.grid(True, 'major')\n",
    "ax.grid(True)\n",
    "\n",
    "fig.autofmt_xdate()\n",
    "\n",
    "plt.show()"
   ]
  },
  {
   "cell_type": "code",
   "execution_count": null,
   "metadata": {},
   "outputs": [],
   "source": []
  }
 ],
 "metadata": {
  "kernelspec": {
   "display_name": "Python 3",
   "language": "python",
   "name": "python3"
  },
  "language_info": {
   "codemirror_mode": {
    "name": "ipython",
    "version": 3
   },
   "file_extension": ".py",
   "mimetype": "text/x-python",
   "name": "python",
   "nbconvert_exporter": "python",
   "pygments_lexer": "ipython3",
   "version": "3.6.5"
  }
 },
 "nbformat": 4,
 "nbformat_minor": 2
}

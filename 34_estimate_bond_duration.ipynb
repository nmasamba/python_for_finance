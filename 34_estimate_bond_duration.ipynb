{
 "cells": [
  {
   "cell_type": "code",
   "execution_count": 1,
   "metadata": {},
   "outputs": [],
   "source": [
    "\n",
    "import scipy as sp"
   ]
  },
  {
   "cell_type": "code",
   "execution_count": 5,
   "metadata": {},
   "outputs": [],
   "source": [
    "\n",
    "# Find the duration of a bond with 4% coupon rate payable anually over 4 years \n",
    "# with a current discount rate of 1%\n",
    "\n",
    "coupon = 0.04\n",
    "r = 0.01\n",
    "n = 4\n"
   ]
  },
  {
   "cell_type": "code",
   "execution_count": 6,
   "metadata": {},
   "outputs": [],
   "source": [
    "\n",
    "def get_bond_duration(coupon_rate, discount_rate, num_periods):\n",
    "    d = 0\n",
    "    \n",
    "    for i in sp.arange(num_periods):\n",
    "        d += (i+1)*sp.pv(discount_rate, i+1, 0, -coupon_rate)\n",
    "    \n",
    "    d += num_periods * sp.pv(discount_rate, num_periods, 0, -1)\n",
    "    \n",
    "    return d/sp.pv(discount_rate, num_periods, -coupon_rate, -1)"
   ]
  },
  {
   "cell_type": "code",
   "execution_count": 7,
   "metadata": {},
   "outputs": [
    {
     "data": {
      "text/plain": [
       "3.7886779676577755"
      ]
     },
     "execution_count": 7,
     "metadata": {},
     "output_type": "execute_result"
    }
   ],
   "source": [
    "get_bond_duration(coupon, r, n)"
   ]
  },
  {
   "cell_type": "code",
   "execution_count": null,
   "metadata": {},
   "outputs": [],
   "source": []
  }
 ],
 "metadata": {
  "kernelspec": {
   "display_name": "Python 3",
   "language": "python",
   "name": "python3"
  },
  "language_info": {
   "codemirror_mode": {
    "name": "ipython",
    "version": 3
   },
   "file_extension": ".py",
   "mimetype": "text/x-python",
   "name": "python",
   "nbconvert_exporter": "python",
   "pygments_lexer": "ipython3",
   "version": "3.6.5"
  }
 },
 "nbformat": 4,
 "nbformat_minor": 2
}

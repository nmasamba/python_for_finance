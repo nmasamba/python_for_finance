{
 "cells": [
  {
   "cell_type": "markdown",
   "metadata": {},
   "source": [
    "\n",
    "Name: Present Value Calculator\n",
    "    \n",
    "Author: Nyasha Masamba\n",
    "    \n",
    "    \n",
    "Calculate PV of a security given discount rate,r, cashflows,cf, and number of periods,i."
   ]
  },
  {
   "cell_type": "code",
   "execution_count": 20,
   "metadata": {},
   "outputs": [],
   "source": [
    "\n",
    "r = 0.005\n",
    "cf = [-100, -30, 10, 40, 50, 45, 20]\n",
    "\n",
    "\n",
    "\n",
    "def pv_f(rate, cashflows):\n",
    "    total = 0.0\n",
    "    for i in range(0, len(cashflows)):\n",
    "        total += cashflows[i] / (1+rate) ** (i+1)\n",
    "    return total\n",
    "        \n",
    "        "
   ]
  },
  {
   "cell_type": "code",
   "execution_count": 21,
   "metadata": {},
   "outputs": [
    {
     "data": {
      "text/plain": [
       "31.61230532879143"
      ]
     },
     "execution_count": 21,
     "metadata": {},
     "output_type": "execute_result"
    }
   ],
   "source": [
    "pv_f(r, cf)"
   ]
  },
  {
   "cell_type": "code",
   "execution_count": null,
   "metadata": {},
   "outputs": [],
   "source": []
  }
 ],
 "metadata": {
  "kernelspec": {
   "display_name": "Python 3",
   "language": "python",
   "name": "python3"
  },
  "language_info": {
   "codemirror_mode": {
    "name": "ipython",
    "version": 3
   },
   "file_extension": ".py",
   "mimetype": "text/x-python",
   "name": "python",
   "nbconvert_exporter": "python",
   "pygments_lexer": "ipython3",
   "version": "3.6.5"
  }
 },
 "nbformat": 4,
 "nbformat_minor": 2
}

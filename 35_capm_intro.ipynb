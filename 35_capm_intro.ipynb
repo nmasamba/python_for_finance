{
 "cells": [
  {
   "cell_type": "code",
   "execution_count": 1,
   "metadata": {},
   "outputs": [],
   "source": [
    "\n",
    "from scipy import stats\n",
    "import scipy as sp"
   ]
  },
  {
   "cell_type": "code",
   "execution_count": 2,
   "metadata": {},
   "outputs": [],
   "source": [
    "# Elements of the CAPM\n",
    "# According to the CAPM, E(Ret) = RiskFreeRet + Beta * (E(MktRet) - RiskFreeRet)\n",
    "\n",
    "\n",
    "sp.random.seed(55)\n",
    "\n",
    "alpha = 1\n",
    "beta = 0.8\n",
    "n = 100\n",
    "\n",
    "# generate known x and y values\n",
    "x = sp.arange(n) # where x is the independent observed variable\n",
    "y = alpha + (beta * x) + sp.random.rand(n) # where y == market_return, the dependent variable\n"
   ]
  },
  {
   "cell_type": "code",
   "execution_count": 4,
   "metadata": {},
   "outputs": [],
   "source": [
    "\n",
    "# estimating beta and alpha given a known x and y\n",
    "(beta, alpha, r_value, p_value, std_err) = stats.linregress(y,x)"
   ]
  },
  {
   "cell_type": "code",
   "execution_count": 5,
   "metadata": {},
   "outputs": [
    {
     "name": "stdout",
     "output_type": "stream",
     "text": [
      "alpha:  -1.8906326097449337\n",
      "beta:  1.2501460166795648\n"
     ]
    }
   ],
   "source": [
    "\n",
    "print(\"alpha: \", alpha)\n",
    "print(\"beta: \", beta)"
   ]
  },
  {
   "cell_type": "code",
   "execution_count": 7,
   "metadata": {},
   "outputs": [
    {
     "name": "stdout",
     "output_type": "stream",
     "text": [
      "R-squared:  0.9998440670706006\n",
      "p-value:  2.2866852160180614e-188\n"
     ]
    }
   ],
   "source": [
    "\n",
    "print(\"R-squared: \", r_value ** 2)\n",
    "print(\"p-value: \", p_value)"
   ]
  },
  {
   "cell_type": "code",
   "execution_count": null,
   "metadata": {},
   "outputs": [],
   "source": []
  }
 ],
 "metadata": {
  "kernelspec": {
   "display_name": "Python 3",
   "language": "python",
   "name": "python3"
  },
  "language_info": {
   "codemirror_mode": {
    "name": "ipython",
    "version": 3
   },
   "file_extension": ".py",
   "mimetype": "text/x-python",
   "name": "python",
   "nbconvert_exporter": "python",
   "pygments_lexer": "ipython3",
   "version": "3.6.5"
  }
 },
 "nbformat": 4,
 "nbformat_minor": 2
}

{
 "cells": [
  {
   "cell_type": "code",
   "execution_count": 1,
   "metadata": {},
   "outputs": [],
   "source": [
    "\n",
    "import scipy as sp"
   ]
  },
  {
   "cell_type": "code",
   "execution_count": 5,
   "metadata": {},
   "outputs": [
    {
     "data": {
      "text/plain": [
       "0.033791469771228044"
      ]
     },
     "execution_count": 5,
     "metadata": {},
     "output_type": "execute_result"
    }
   ],
   "source": [
    "\n",
    "# Yield-to-maturity of zero-coupon bond\n",
    "paid = 717.25\n",
    "face_val = 1000\n",
    "coupon = 0\n",
    "maturity = 10 #years\n",
    "\n",
    "ytm = (face_val/paid)**(1/maturity)-1\n",
    "\n",
    "ytm"
   ]
  },
  {
   "cell_type": "code",
   "execution_count": 6,
   "metadata": {},
   "outputs": [
    {
     "data": {
      "text/plain": [
       "0.03379146977122812"
      ]
     },
     "execution_count": 6,
     "metadata": {},
     "output_type": "execute_result"
    }
   ],
   "source": [
    "\n",
    "# Yield-to-maturity of zero-coupon bond using scipy's rate()\n",
    "\n",
    "ytm = sp.rate(maturity, coupon, -paid, face_val)\n",
    "\n",
    "ytm"
   ]
  },
  {
   "cell_type": "code",
   "execution_count": 7,
   "metadata": {},
   "outputs": [
    {
     "data": {
      "text/plain": [
       "0.037413021323955166"
      ]
     },
     "execution_count": 7,
     "metadata": {},
     "output_type": "execute_result"
    }
   ],
   "source": [
    "\n",
    "# YTM of coupon bond\n",
    "paid = 717.25\n",
    "face_val = 1000\n",
    "coupon = 3 # 3% coupon\n",
    "maturity = 10 #years\n",
    "\n",
    "ytm = sp.rate(maturity, coupon, -paid, face_val)\n",
    "\n",
    "ytm"
   ]
  },
  {
   "cell_type": "code",
   "execution_count": null,
   "metadata": {},
   "outputs": [],
   "source": []
  }
 ],
 "metadata": {
  "kernelspec": {
   "display_name": "Python 3",
   "language": "python",
   "name": "python3"
  },
  "language_info": {
   "codemirror_mode": {
    "name": "ipython",
    "version": 3
   },
   "file_extension": ".py",
   "mimetype": "text/x-python",
   "name": "python",
   "nbconvert_exporter": "python",
   "pygments_lexer": "ipython3",
   "version": "3.6.5"
  }
 },
 "nbformat": 4,
 "nbformat_minor": 2
}

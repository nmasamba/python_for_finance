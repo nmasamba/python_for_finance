{
 "cells": [
  {
   "cell_type": "markdown",
   "metadata": {},
   "source": [
    "\n",
    "Name: Pickle data retrieval functions\n",
    "    \n",
    "Author: Nyasha Masamba\n",
    "    \n",
    "Get data from pickle (.pkl) files ready for manipualion with Python tools."
   ]
  },
  {
   "cell_type": "code",
   "execution_count": 1,
   "metadata": {},
   "outputs": [],
   "source": [
    "\n",
    "import pandas as pd\n",
    "import pickle"
   ]
  },
  {
   "cell_type": "code",
   "execution_count": 13,
   "metadata": {},
   "outputs": [],
   "source": [
    "\n",
    "# create pickle file\n",
    "barc_pickled = pd.read_csv('market_data/BARC.L.csv')\n",
    "pickle.dump( barc_pickled, open( \"market_data/pickle_BARC.pkl\", \"wb\" ) )"
   ]
  },
  {
   "cell_type": "code",
   "execution_count": 14,
   "metadata": {},
   "outputs": [
    {
     "name": "stdout",
     "output_type": "stream",
     "text": [
      "         Date        Open        High         Low       Close   Adj Close  \\\n",
      "0  2013-09-16  282.665985  286.269012  278.001007  282.112000  250.591934   \n",
      "1  2013-09-17  281.927002  282.204010  273.013000  276.200012  245.340515   \n",
      "2  2013-09-18  284.000000  297.295013  275.350006  277.200012  246.228760   \n",
      "3  2013-09-19  282.200012  282.200012  277.500000  278.299988  247.205795   \n",
      "4  2013-09-20  277.850006  277.950012  272.700012  273.450012  242.897705   \n",
      "5  2013-09-23  271.799988  272.035004  265.000000  266.350006  236.590988   \n",
      "6  2013-09-24  265.899994  273.595001  265.700012  271.450012  241.121170   \n",
      "7  2013-09-25  271.799988  277.656006  270.350006  273.000000  242.497971   \n",
      "8  2013-09-26  274.000000  274.200012  265.000000  269.200012  239.122543   \n",
      "9  2013-09-27  268.350006  269.750000  263.950012  265.799988  236.102417   \n",
      "\n",
      "      Volume  \n",
      "0   53489132  \n",
      "1   73143097  \n",
      "2   75208440  \n",
      "3   81062189  \n",
      "4   99305712  \n",
      "5  102546928  \n",
      "6   87499240  \n",
      "7   82996400  \n",
      "8   74870176  \n",
      "9   82937528  \n"
     ]
    }
   ],
   "source": [
    "\n",
    "# read from pickle file\n",
    "barc = pd.read_pickle('market_data/pickle_BARC.pkl')\n",
    "\n",
    "print(barc[:10])"
   ]
  },
  {
   "cell_type": "code",
   "execution_count": null,
   "metadata": {},
   "outputs": [],
   "source": []
  },
  {
   "cell_type": "code",
   "execution_count": null,
   "metadata": {},
   "outputs": [],
   "source": []
  }
 ],
 "metadata": {
  "kernelspec": {
   "display_name": "Python 3",
   "language": "python",
   "name": "python3"
  },
  "language_info": {
   "codemirror_mode": {
    "name": "ipython",
    "version": 3
   },
   "file_extension": ".py",
   "mimetype": "text/x-python",
   "name": "python",
   "nbconvert_exporter": "python",
   "pygments_lexer": "ipython3",
   "version": "3.6.5"
  }
 },
 "nbformat": 4,
 "nbformat_minor": 2
}

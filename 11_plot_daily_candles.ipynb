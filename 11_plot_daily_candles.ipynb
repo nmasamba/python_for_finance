{
 "cells": [
  {
   "cell_type": "code",
   "execution_count": 6,
   "metadata": {},
   "outputs": [
    {
     "data": {
      "image/png": "[encoded data removed]",
      "text/plain": [
       "<Figure size 432x288 with 1 Axes>"
      ]
     },
     "metadata": {},
     "output_type": "display_data"
    }
   ],
   "source": [
    "import datetime\n",
    "\n",
    "import matplotlib.dates as mdates\n",
    "import matplotlib.pyplot as plt\n",
    "import pandas as pd\n",
    "from matplotlib.dates import MONDAY, DateFormatter, DayLocator, WeekdayLocator\n",
    "\n",
    "from mpl_finance import candlestick_ohlc\n",
    "\n",
    "date1 = \"2017-12-1\"\n",
    "date2 = \"2017-12-31\"\n",
    "\n",
    "\n",
    "mondays = WeekdayLocator(MONDAY)        # major ticks on the mondays\n",
    "alldays = DayLocator()              # minor ticks on the days\n",
    "weekFormatter = DateFormatter('%b %d')  # e.g., Jan 12\n",
    "dayFormatter = DateFormatter('%d')      # e.g., 12\n",
    "\n",
    "quotes = pd.read_csv('market_data/BARC.L.csv',\n",
    "                     index_col=0,\n",
    "                     parse_dates=True,\n",
    "                     infer_datetime_format=True)\n",
    "\n",
    "# select desired range of dates\n",
    "quotes = quotes[(quotes.index >= date1) & (quotes.index <= date2)]\n",
    "\n",
    "fig, ax = plt.subplots()\n",
    "fig.subplots_adjust(bottom=0.2)\n",
    "ax.xaxis.set_major_locator(mondays)\n",
    "ax.xaxis.set_minor_locator(alldays)\n",
    "ax.xaxis.set_major_formatter(weekFormatter)\n",
    "# ax.xaxis.set_minor_formatter(dayFormatter)\n",
    "\n",
    "# plot_day_summary(ax, quotes, ticksize=3)\n",
    "candlestick_ohlc(ax, zip(mdates.date2num(quotes.index.to_pydatetime()),\n",
    "                         quotes['Open'], quotes['High'],\n",
    "                         quotes['Low'], quotes['Close']),\n",
    "                 width=0.6)\n",
    "\n",
    "ax.xaxis_date()\n",
    "ax.autoscale_view()\n",
    "plt.setp(plt.gca().get_xticklabels(), rotation=45, horizontalalignment='right')\n",
    "\n",
    "plt.show()"
   ]
  },
  {
   "cell_type": "code",
   "execution_count": null,
   "metadata": {},
   "outputs": [],
   "source": []
  }
 ],
 "metadata": {
  "kernelspec": {
   "display_name": "Python 3",
   "language": "python",
   "name": "python3"
  },
  "language_info": {
   "codemirror_mode": {
    "name": "ipython",
    "version": 3
   },
   "file_extension": ".py",
   "mimetype": "text/x-python",
   "name": "python",
   "nbconvert_exporter": "python",
   "pygments_lexer": "ipython3",
   "version": "3.6.5"
  }
 },
 "nbformat": 4,
 "nbformat_minor": 2
}

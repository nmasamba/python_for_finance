{
 "cells": [
  {
   "cell_type": "code",
   "execution_count": 13,
   "metadata": {
    "collapsed": true
   },
   "outputs": [],
   "source": [
    "\n",
    "from math import log, sqrt, exp\n",
    "from scipy import stats\n",
    "import pandas as pd\n",
    "import matplotlib.pyplot as plt\n",
    "import quandl"
   ]
  },
  {
   "cell_type": "code",
   "execution_count": 14,
   "metadata": {
    "collapsed": true
   },
   "outputs": [],
   "source": [
    "\n",
    "\n",
    "def bsm_call_value(S0, K, T, r, sigma):\n",
    "    ''' Valuation of European call option in BSM model.\n",
    "    Analytical formula.\n",
    "\n",
    "    Parameters\n",
    "    ==========\n",
    "    S0 : float\n",
    "        initial stock/index level\n",
    "    K : float\n",
    "        strike price\n",
    "    T : float\n",
    "        maturity date (in year fractions)\n",
    "    r : float\n",
    "        constant risk-free short rate\n",
    "    sigma : float\n",
    "        volatility factor in diffusion term\n",
    "\n",
    "    Returns\n",
    "    =======\n",
    "    value : float\n",
    "        present value of the European call option\n",
    "    '''\n",
    "    S0 = float(S0)\n",
    "    d1 = (log(S0 / K) + (r + 0.5 * sigma ** 2) * T) / (sigma * sqrt(T))\n",
    "    d2 = (log(S0 / K) + (r - 0.5 * sigma ** 2) * T) / (sigma * sqrt(T))\n",
    "    value = (S0 * stats.norm.cdf(d1, 0.0, 1.0)\n",
    "            - K * exp(-r * T) * stats.norm.cdf(d2, 0.0, 1.0))\n",
    "      # stats.norm.cdf --> cumulative distribution function\n",
    "      #                    for normal distribution\n",
    "    return value\n",
    "\n",
    "\n",
    "# Vega function\n",
    "def bsm_vega(S0, K, T, r, sigma):\n",
    "    ''' Vega of European option in BSM model.\n",
    "\n",
    "    Parameters\n",
    "    ==========\n",
    "    S0 : float\n",
    "        initial stock/index level\n",
    "    K : float\n",
    "        strike price\n",
    "    T : float\n",
    "        maturity date (in year fractions)\n",
    "    r : float\n",
    "        constant risk-free short rate\n",
    "    sigma : float\n",
    "        volatility factor in diffusion term\n",
    "\n",
    "    Returns\n",
    "    =======\n",
    "    vega : float\n",
    "        partial derivative of BSM formula with respect\n",
    "        to sigma, i.e. Vega\n",
    "\n",
    "    '''\n",
    "\n",
    "    S0 = float(S0)\n",
    "    d1 = (log(S0 / K) + (r + 0.5 * sigma ** 2) * T / (sigma * sqrt(T)))\n",
    "    vega = S0 * stats.norm.cdf(d1, 0.0, 1.0) * sqrt(T)\n",
    "    return vega\n",
    "\n",
    "# Implied volatility function\n",
    "def bsm_call_imp_vol(S0, K, T, r, C0, sigma_est, it=100):\n",
    "    ''' Implied volatility of European call option in BSM model.\n",
    "\n",
    "    Parameters\n",
    "    ==========\n",
    "    S0 : float\n",
    "        initial stock/index level\n",
    "    K : float\n",
    "        strike price\n",
    "    T : float\n",
    "        maturity date (in year fractions)\n",
    "    r : float\n",
    "        constant risk-free short rate\n",
    "    sigma_est : float\n",
    "        estimate of impl. volatility\n",
    "    it : integer\n",
    "        number of iterations\n",
    "\n",
    "    Returns\n",
    "    =======\n",
    "    simga_est : float\n",
    "        numerically estimated implied volatility\n",
    "    '''\n",
    "    for i in range(it):\n",
    "        sigma_est -= ((bsm_call_value(S0, K, T, r, sigma_est) - C0)\n",
    "                        / bsm_vega(S0, K, T, r, sigma_est))\n",
    "    return sigma_est"
   ]
  },
  {
   "cell_type": "code",
   "execution_count": 17,
   "metadata": {},
   "outputs": [
    {
     "data": {
      "text/html": [
       "<div>\n",
       "<style>\n",
       "    .dataframe thead tr:only-child th {\n",
       "        text-align: right;\n",
       "    }\n",
       "\n",
       "    .dataframe thead th {\n",
       "        text-align: left;\n",
       "    }\n",
       "\n",
       "    .dataframe tbody tr th {\n",
       "        vertical-align: top;\n",
       "    }\n",
       "</style>\n",
       "<table border=\"1\" class=\"dataframe\">\n",
       "  <thead>\n",
       "    <tr style=\"text-align: right;\">\n",
       "      <th></th>\n",
       "      <th>Open</th>\n",
       "      <th>High</th>\n",
       "      <th>Low</th>\n",
       "      <th>Settle</th>\n",
       "      <th>Volume</th>\n",
       "      <th>Prev. Day Open Interest</th>\n",
       "    </tr>\n",
       "    <tr>\n",
       "      <th>Date</th>\n",
       "      <th></th>\n",
       "      <th></th>\n",
       "      <th></th>\n",
       "      <th></th>\n",
       "      <th></th>\n",
       "      <th></th>\n",
       "    </tr>\n",
       "  </thead>\n",
       "  <tbody>\n",
       "    <tr>\n",
       "      <th>2013-09-09</th>\n",
       "      <td>21.20</td>\n",
       "      <td>21.35</td>\n",
       "      <td>20.90</td>\n",
       "      <td>21.00</td>\n",
       "      <td>3166.0</td>\n",
       "      <td>31961.0</td>\n",
       "    </tr>\n",
       "    <tr>\n",
       "      <th>2013-09-10</th>\n",
       "      <td>20.65</td>\n",
       "      <td>20.65</td>\n",
       "      <td>19.80</td>\n",
       "      <td>20.00</td>\n",
       "      <td>6078.0</td>\n",
       "      <td>32412.0</td>\n",
       "    </tr>\n",
       "    <tr>\n",
       "      <th>2013-09-11</th>\n",
       "      <td>20.10</td>\n",
       "      <td>20.15</td>\n",
       "      <td>19.50</td>\n",
       "      <td>19.50</td>\n",
       "      <td>4057.0</td>\n",
       "      <td>32995.0</td>\n",
       "    </tr>\n",
       "    <tr>\n",
       "      <th>2013-09-12</th>\n",
       "      <td>19.40</td>\n",
       "      <td>19.50</td>\n",
       "      <td>18.95</td>\n",
       "      <td>19.25</td>\n",
       "      <td>7041.0</td>\n",
       "      <td>32207.0</td>\n",
       "    </tr>\n",
       "    <tr>\n",
       "      <th>2013-09-13</th>\n",
       "      <td>19.50</td>\n",
       "      <td>19.75</td>\n",
       "      <td>19.20</td>\n",
       "      <td>19.50</td>\n",
       "      <td>2996.0</td>\n",
       "      <td>30829.0</td>\n",
       "    </tr>\n",
       "  </tbody>\n",
       "</table>\n",
       "</div>"
      ],
      "text/plain": [
       "             Open   High    Low  Settle  Volume  Prev. Day Open Interest\n",
       "Date                                                                    \n",
       "2013-09-09  21.20  21.35  20.90   21.00  3166.0                  31961.0\n",
       "2013-09-10  20.65  20.65  19.80   20.00  6078.0                  32412.0\n",
       "2013-09-11  20.10  20.15  19.50   19.50  4057.0                  32995.0\n",
       "2013-09-12  19.40  19.50  18.95   19.25  7041.0                  32207.0\n",
       "2013-09-13  19.50  19.75  19.20   19.50  2996.0                  30829.0"
      ]
     },
     "execution_count": 17,
     "metadata": {},
     "output_type": "execute_result"
    }
   ],
   "source": [
    "\n",
    "V0 = 17.6639 #as at 31 March 2014\n",
    "#h5 = pd.HDFStore('./source/vstoxx_data_31032014.h5', 'r')\n",
    "h5 = quandl.get(\"CHRIS/EUREX_FVS1\")\n",
    "h5.head()"
   ]
  },
  {
   "cell_type": "code",
   "execution_count": null,
   "metadata": {
    "collapsed": true
   },
   "outputs": [],
   "source": [
    "# ACTUAL DATA AS USED BY AUTHOR UNOBTAINABLE"
   ]
  },
  {
   "cell_type": "code",
   "execution_count": 18,
   "metadata": {},
   "outputs": [
    {
     "ename": "NameError",
     "evalue": "name 'options_data' is not defined",
     "output_type": "error",
     "traceback": [
      "\u001b[0;31m---------------------------------------------------------------------------\u001b[0m",
      "\u001b[0;31mNameError\u001b[0m                                 Traceback (most recent call last)",
      "\u001b[0;32m<ipython-input-18-8682cea84296>\u001b[0m in \u001b[0;36m<module>\u001b[0;34m()\u001b[0m\n\u001b[0;32m----> 1\u001b[0;31m \u001b[0moptions_data\u001b[0m\u001b[0;34m\u001b[0m\u001b[0m\n\u001b[0m",
      "\u001b[0;31mNameError\u001b[0m: name 'options_data' is not defined"
     ]
    }
   ],
   "source": []
  },
  {
   "cell_type": "code",
   "execution_count": 19,
   "metadata": {},
   "outputs": [
    {
     "ename": "NameError",
     "evalue": "name 'options_data' is not defined",
     "output_type": "error",
     "traceback": [
      "\u001b[0;31m---------------------------------------------------------------------------\u001b[0m",
      "\u001b[0;31mNameError\u001b[0m                                 Traceback (most recent call last)",
      "\u001b[0;32m<ipython-input-19-cbf07b504b1f>\u001b[0m in \u001b[0;36m<module>\u001b[0;34m()\u001b[0m\n\u001b[1;32m      1\u001b[0m \u001b[0mtol\u001b[0m \u001b[0;34m=\u001b[0m \u001b[0;36m0.5\u001b[0m  \u001b[0;31m# tolerance level for moneyness\u001b[0m\u001b[0;34m\u001b[0m\u001b[0m\n\u001b[0;32m----> 2\u001b[0;31m \u001b[0;32mfor\u001b[0m \u001b[0moption\u001b[0m \u001b[0;32min\u001b[0m \u001b[0moptions_data\u001b[0m\u001b[0;34m.\u001b[0m\u001b[0mindex\u001b[0m\u001b[0;34m:\u001b[0m\u001b[0;34m\u001b[0m\u001b[0m\n\u001b[0m\u001b[1;32m      3\u001b[0m     \u001b[0;31m# iterating over all option quotes\u001b[0m\u001b[0;34m\u001b[0m\u001b[0;34m\u001b[0m\u001b[0m\n\u001b[1;32m      4\u001b[0m     \u001b[0mforward\u001b[0m \u001b[0;34m=\u001b[0m \u001b[0mfutures_data\u001b[0m\u001b[0;34m[\u001b[0m\u001b[0mfutures_data\u001b[0m\u001b[0;34m[\u001b[0m\u001b[0;34m'MATURITY'\u001b[0m\u001b[0;34m]\u001b[0m \u001b[0;34m==\u001b[0m                 \u001b[0moptions_data\u001b[0m\u001b[0;34m.\u001b[0m\u001b[0mloc\u001b[0m\u001b[0;34m[\u001b[0m\u001b[0moption\u001b[0m\u001b[0;34m]\u001b[0m\u001b[0;34m[\u001b[0m\u001b[0;34m'MATURITY'\u001b[0m\u001b[0;34m]\u001b[0m\u001b[0;34m]\u001b[0m\u001b[0;34m[\u001b[0m\u001b[0;34m'PRICE'\u001b[0m\u001b[0;34m]\u001b[0m\u001b[0;34m.\u001b[0m\u001b[0mvalues\u001b[0m\u001b[0;34m[\u001b[0m\u001b[0;36m0\u001b[0m\u001b[0;34m]\u001b[0m\u001b[0;34m\u001b[0m\u001b[0m\n\u001b[1;32m      5\u001b[0m       \u001b[0;31m# picking the right futures value\u001b[0m\u001b[0;34m\u001b[0m\u001b[0;34m\u001b[0m\u001b[0m\n",
      "\u001b[0;31mNameError\u001b[0m: name 'options_data' is not defined"
     ]
    }
   ],
   "source": [
    "tol = 0.5  # tolerance level for moneyness\n",
    "for option in options_data.index:\n",
    "    # iterating over all option quotes\n",
    "    forward = futures_data[futures_data['MATURITY'] == \\\n",
    "                options_data.loc[option]['MATURITY']]['PRICE'].values[0]\n",
    "      # picking the right futures value\n",
    "    if (forward * (1 - tol) < options_data.loc[option]['STRIKE']\n",
    "                             < forward * (1 + tol)):\n",
    "        # only for options with moneyness within tolerance\n",
    "        imp_vol = bsm_call_imp_vol(\n",
    "                V0,  # VSTOXX value\n",
    "                options_data.loc[option]['STRIKE'],\n",
    "                options_data.loc[option]['TTM'],\n",
    "                r,   # short rate\n",
    "                options_data.loc[option]['PRICE'],\n",
    "                sigma_est=2.,  # estimate for implied volatility\n",
    "                it=100)\n",
    "        options_data['IMP_VOL'].loc[option] = imp_vol"
   ]
  },
  {
   "cell_type": "code",
   "execution_count": 20,
   "metadata": {},
   "outputs": [
    {
     "ename": "NameError",
     "evalue": "name 'maturities' is not defined",
     "output_type": "error",
     "traceback": [
      "\u001b[0;31m---------------------------------------------------------------------------\u001b[0m",
      "\u001b[0;31mNameError\u001b[0m                                 Traceback (most recent call last)",
      "\u001b[0;32m<ipython-input-20-f750d89dd528>\u001b[0m in \u001b[0;36m<module>\u001b[0;34m()\u001b[0m\n\u001b[1;32m      2\u001b[0m \u001b[0mget_ipython\u001b[0m\u001b[0;34m(\u001b[0m\u001b[0;34m)\u001b[0m\u001b[0;34m.\u001b[0m\u001b[0mmagic\u001b[0m\u001b[0;34m(\u001b[0m\u001b[0;34mu'matplotlib inline'\u001b[0m\u001b[0;34m)\u001b[0m\u001b[0;34m\u001b[0m\u001b[0m\n\u001b[1;32m      3\u001b[0m \u001b[0mplt\u001b[0m\u001b[0;34m.\u001b[0m\u001b[0mfigure\u001b[0m\u001b[0;34m(\u001b[0m\u001b[0mfigsize\u001b[0m\u001b[0;34m=\u001b[0m\u001b[0;34m(\u001b[0m\u001b[0;36m8\u001b[0m\u001b[0;34m,\u001b[0m \u001b[0;36m6\u001b[0m\u001b[0;34m)\u001b[0m\u001b[0;34m)\u001b[0m\u001b[0;34m\u001b[0m\u001b[0m\n\u001b[0;32m----> 4\u001b[0;31m \u001b[0;32mfor\u001b[0m \u001b[0mmaturity\u001b[0m \u001b[0;32min\u001b[0m \u001b[0mmaturities\u001b[0m\u001b[0;34m:\u001b[0m\u001b[0;34m\u001b[0m\u001b[0m\n\u001b[0m\u001b[1;32m      5\u001b[0m     \u001b[0mdata\u001b[0m \u001b[0;34m=\u001b[0m \u001b[0mplot_data\u001b[0m\u001b[0;34m[\u001b[0m\u001b[0moptions_data\u001b[0m\u001b[0;34m.\u001b[0m\u001b[0mMATURITY\u001b[0m \u001b[0;34m==\u001b[0m \u001b[0mmaturity\u001b[0m\u001b[0;34m]\u001b[0m\u001b[0;34m\u001b[0m\u001b[0m\n\u001b[1;32m      6\u001b[0m        \u001b[0;31m# select data for this maturity\u001b[0m\u001b[0;34m\u001b[0m\u001b[0;34m\u001b[0m\u001b[0m\n",
      "\u001b[0;31mNameError\u001b[0m: name 'maturities' is not defined"
     ]
    },
    {
     "data": {
      "text/plain": [
       "<matplotlib.figure.Figure at 0x1a1f00ead0>"
      ]
     },
     "metadata": {},
     "output_type": "display_data"
    }
   ],
   "source": [
    "\n",
    "%matplotlib inline\n",
    "plt.figure(figsize=(8, 6))\n",
    "for maturity in maturities:\n",
    "    data = plot_data[options_data.MATURITY == maturity]\n",
    "       # select data for this maturity\n",
    "    plt.plot(data['STRIKE'], data['IMP_VOL'],\n",
    "              label=maturity.date(), lw=1.5)\n",
    "    plt.plot(data['STRIKE'], data['IMP_VOL'], 'r.')\n",
    "plt.grid(True)\n",
    "plt.xlabel('strike')\n",
    "plt.ylabel('implied volatility of volatility')\n",
    "plt.legend()\n",
    "plt.show()"
   ]
  },
  {
   "cell_type": "code",
   "execution_count": null,
   "metadata": {
    "collapsed": true
   },
   "outputs": [],
   "source": []
  }
 ],
 "metadata": {
  "kernelspec": {
   "display_name": "Python 2",
   "language": "python",
   "name": "python2"
  },
  "language_info": {
   "codemirror_mode": {
    "name": "ipython",
    "version": 2
   },
   "file_extension": ".py",
   "mimetype": "text/x-python",
   "name": "python",
   "nbconvert_exporter": "python",
   "pygments_lexer": "ipython2",
   "version": "2.7.13"
  }
 },
 "nbformat": 4,
 "nbformat_minor": 2
}

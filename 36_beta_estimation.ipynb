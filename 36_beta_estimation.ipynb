{
 "cells": [
  {
   "cell_type": "code",
   "execution_count": 1,
   "metadata": {},
   "outputs": [],
   "source": [
    "\n",
    "from scipy import stats\n",
    "import scipy as sp\n",
    "import pandas as pd\n",
    "import statsmodels.api as sm"
   ]
  },
  {
   "cell_type": "code",
   "execution_count": 2,
   "metadata": {},
   "outputs": [],
   "source": [
    "\n",
    "df_lmt = pd.read_csv('market_data/LMT_pegged.csv')\n",
    "close_series = df_lmt['Adj Close']\n",
    "returns_series_lmt = (close_series/close_series.shift(1)-1)\n",
    "\n",
    "df_mkt = pd.read_csv('market_data/SP500_pegged.csv')\n",
    "close_series = df_mkt['Adj Close']\n",
    "returns_series_mkt = (close_series/close_series.shift(1)-1)\n"
   ]
  },
  {
   "cell_type": "code",
   "execution_count": 3,
   "metadata": {},
   "outputs": [],
   "source": [
    "\n",
    "(beta, alpha, r_value, p_value, std_err) = stats.linregress(returns_series_mkt[1:], returns_series_lmt[1:])"
   ]
  },
  {
   "cell_type": "code",
   "execution_count": 4,
   "metadata": {},
   "outputs": [
    {
     "name": "stdout",
     "output_type": "stream",
     "text": [
      "alpha:  0.0004675422012350162\n",
      "beta:  0.6828851859573798\n",
      "R-squared:  0.378037478890509\n",
      "p-value:  1.471835547874764e-287\n"
     ]
    }
   ],
   "source": [
    "\n",
    "print(\"alpha: \", alpha)\n",
    "print(\"beta: \", beta)\n",
    "print(\"R-squared: \", r_value ** 2)\n",
    "print(\"p-value: \", p_value)"
   ]
  },
  {
   "cell_type": "code",
   "execution_count": 5,
   "metadata": {},
   "outputs": [
    {
     "name": "stdout",
     "output_type": "stream",
     "text": [
      "                            OLS Regression Results                            \n",
      "==============================================================================\n",
      "Dep. Variable:              Adj Close   R-squared:                       0.378\n",
      "Model:                            OLS   Adj. R-squared:                  0.378\n",
      "Method:                 Least Squares   F-statistic:                     1684.\n",
      "Date:                Tue, 13 Nov 2018   Prob (F-statistic):          5.38e-288\n",
      "Time:                        17:11:27   Log-Likelihood:                 8829.9\n",
      "No. Observations:                2768   AIC:                        -1.766e+04\n",
      "Df Residuals:                    2767   BIC:                        -1.765e+04\n",
      "Df Model:                           1                                         \n",
      "Covariance Type:            nonrobust                                         \n",
      "==============================================================================\n",
      "                 coef    std err          t      P>|t|      [0.025      0.975]\n",
      "------------------------------------------------------------------------------\n",
      "Adj Close      0.5534      0.013     41.040      0.000       0.527       0.580\n",
      "==============================================================================\n",
      "Omnibus:                      531.529   Durbin-Watson:                   2.151\n",
      "Prob(Omnibus):                  0.000   Jarque-Bera (JB):            10559.750\n",
      "Skew:                           0.343   Prob(JB):                         0.00\n",
      "Kurtosis:                      12.544   Cond. No.                         1.00\n",
      "==============================================================================\n",
      "\n",
      "Warnings:\n",
      "[1] Standard Errors assume that the covariance matrix of the errors is correctly specified.\n"
     ]
    }
   ],
   "source": [
    "\n",
    "# or use OLS, though the results will be different, i.e. Beta = 0.5534\n",
    "results = sm.OLS(returns_series_mkt[1:], returns_series_lmt[1:]).fit()\n",
    "print(results.summary())"
   ]
  },
  {
   "cell_type": "code",
   "execution_count": null,
   "metadata": {},
   "outputs": [],
   "source": []
  }
 ],
 "metadata": {
  "kernelspec": {
   "display_name": "Python 3",
   "language": "python",
   "name": "python3"
  },
  "language_info": {
   "codemirror_mode": {
    "name": "ipython",
    "version": 3
   },
   "file_extension": ".py",
   "mimetype": "text/x-python",
   "name": "python",
   "nbconvert_exporter": "python",
   "pygments_lexer": "ipython3",
   "version": "3.6.5"
  }
 },
 "nbformat": 4,
 "nbformat_minor": 2
}

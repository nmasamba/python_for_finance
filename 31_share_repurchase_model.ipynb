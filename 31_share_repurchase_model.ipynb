{
 "cells": [
  {
   "cell_type": "code",
   "execution_count": null,
   "metadata": {},
   "outputs": [],
   "source": [
    "\n",
    "# If a company expects its total earnings at the end of the year to be £400m,\n",
    "# and the comp plans to pay out 45% of its total earnings: 30% for dividends and \n",
    "# 15% for share repurchases. The comp's long term growth rate is 3% and their cost\n",
    "# of equity is 18% and the number of shares outstanding is 50m. What's the stock price today?\n",
    "\n",
    "# P0 = PV(Future Dividends + Share Repurchases)/(Num Outstanding Shares)"
   ]
  },
  {
   "cell_type": "code",
   "execution_count": 1,
   "metadata": {},
   "outputs": [
    {
     "data": {
      "text/plain": [
       "24.0"
      ]
     },
     "execution_count": 1,
     "metadata": {},
     "output_type": "execute_result"
    }
   ],
   "source": [
    "\n",
    "fv = 400 #million\n",
    "buyout = 0.45\n",
    "g = 0.03\n",
    "r = 0.18\n",
    "outs = 50 #million\n",
    "\n",
    "pv_divs_repos = fv*buyout/(r-g)\n",
    "p0 = pv_divs_repos/outs\n",
    "\n",
    "p0"
   ]
  },
  {
   "cell_type": "code",
   "execution_count": null,
   "metadata": {},
   "outputs": [],
   "source": []
  }
 ],
 "metadata": {
  "kernelspec": {
   "display_name": "Python 3",
   "language": "python",
   "name": "python3"
  },
  "language_info": {
   "codemirror_mode": {
    "name": "ipython",
    "version": 3
   },
   "file_extension": ".py",
   "mimetype": "text/x-python",
   "name": "python",
   "nbconvert_exporter": "python",
   "pygments_lexer": "ipython3",
   "version": "3.6.5"
  }
 },
 "nbformat": 4,
 "nbformat_minor": 2
}

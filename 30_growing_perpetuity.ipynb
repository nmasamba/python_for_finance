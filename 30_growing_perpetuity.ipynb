{
 "cells": [
  {
   "cell_type": "code",
   "execution_count": 1,
   "metadata": {},
   "outputs": [
    {
     "data": {
      "text/plain": [
       "25.0"
      ]
     },
     "execution_count": 1,
     "metadata": {},
     "output_type": "execute_result"
    }
   ],
   "source": [
    " \n",
    "# If a company is expected to issue a £4 dividend next year and enjoys\n",
    "# a constant divident growth rate of 2% afterward, and if the cost of \n",
    "# equity is 18%, what will be the stock price today?\n",
    "\n",
    "d1 = 4\n",
    "g = 0.02\n",
    "r = 0.18\n",
    "\n",
    "# Based on the PV of a growing perpetuity, PV(growing perp) = c / r - g\n",
    "\n",
    "pv = 4/(0.18-0.02)\n",
    "\n",
    "pv"
   ]
  },
  {
   "cell_type": "code",
   "execution_count": null,
   "metadata": {},
   "outputs": [],
   "source": []
  }
 ],
 "metadata": {
  "kernelspec": {
   "display_name": "Python 3",
   "language": "python",
   "name": "python3"
  },
  "language_info": {
   "codemirror_mode": {
    "name": "ipython",
    "version": 3
   },
   "file_extension": ".py",
   "mimetype": "text/x-python",
   "name": "python",
   "nbconvert_exporter": "python",
   "pygments_lexer": "ipython3",
   "version": "3.6.5"
  }
 },
 "nbformat": 4,
 "nbformat_minor": 2
}

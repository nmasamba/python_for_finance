{
 "cells": [
  {
   "cell_type": "code",
   "execution_count": 8,
   "metadata": {},
   "outputs": [],
   "source": [
    "\n",
    "import pandas as pd\n",
    "from scipy import stats\n",
    "\n",
    "# pd.core.common.is_list_like = pd.api.types.is_list_like\n",
    "#import pandas_datareader.data as dataRetrieve\n",
    "#import datetime "
   ]
  },
  {
   "cell_type": "code",
   "execution_count": 9,
   "metadata": {},
   "outputs": [],
   "source": [
    "\n",
    "#beg_date = datetime.datetime(2012, 1, 5)\n",
    "#end_date = datetime.datetime(2012, 12, 1)\n",
    "#df = dataRetrieve.get_data_yahoo('IBM') # always worth trying both yahoo and google in case one fails\n",
    "#df.head()"
   ]
  },
  {
   "cell_type": "code",
   "execution_count": 10,
   "metadata": {},
   "outputs": [
    {
     "data": {
      "text/html": [
       "<div>\n",
       "<style scoped>\n",
       "    .dataframe tbody tr th:only-of-type {\n",
       "        vertical-align: middle;\n",
       "    }\n",
       "\n",
       "    .dataframe tbody tr th {\n",
       "        vertical-align: top;\n",
       "    }\n",
       "\n",
       "    .dataframe thead th {\n",
       "        text-align: right;\n",
       "    }\n",
       "</style>\n",
       "<table border=\"1\" class=\"dataframe\">\n",
       "  <thead>\n",
       "    <tr style=\"text-align: right;\">\n",
       "      <th></th>\n",
       "      <th>Date</th>\n",
       "      <th>Open</th>\n",
       "      <th>High</th>\n",
       "      <th>Low</th>\n",
       "      <th>Close</th>\n",
       "      <th>Adj Close</th>\n",
       "      <th>Volume</th>\n",
       "    </tr>\n",
       "  </thead>\n",
       "  <tbody>\n",
       "    <tr>\n",
       "      <th>0</th>\n",
       "      <td>2013-09-16</td>\n",
       "      <td>282.665985</td>\n",
       "      <td>286.269012</td>\n",
       "      <td>278.001007</td>\n",
       "      <td>282.112000</td>\n",
       "      <td>250.591934</td>\n",
       "      <td>53489132</td>\n",
       "    </tr>\n",
       "    <tr>\n",
       "      <th>1</th>\n",
       "      <td>2013-09-17</td>\n",
       "      <td>281.927002</td>\n",
       "      <td>282.204010</td>\n",
       "      <td>273.013000</td>\n",
       "      <td>276.200012</td>\n",
       "      <td>245.340515</td>\n",
       "      <td>73143097</td>\n",
       "    </tr>\n",
       "    <tr>\n",
       "      <th>2</th>\n",
       "      <td>2013-09-18</td>\n",
       "      <td>284.000000</td>\n",
       "      <td>297.295013</td>\n",
       "      <td>275.350006</td>\n",
       "      <td>277.200012</td>\n",
       "      <td>246.228760</td>\n",
       "      <td>75208440</td>\n",
       "    </tr>\n",
       "    <tr>\n",
       "      <th>3</th>\n",
       "      <td>2013-09-19</td>\n",
       "      <td>282.200012</td>\n",
       "      <td>282.200012</td>\n",
       "      <td>277.500000</td>\n",
       "      <td>278.299988</td>\n",
       "      <td>247.205795</td>\n",
       "      <td>81062189</td>\n",
       "    </tr>\n",
       "    <tr>\n",
       "      <th>4</th>\n",
       "      <td>2013-09-20</td>\n",
       "      <td>277.850006</td>\n",
       "      <td>277.950012</td>\n",
       "      <td>272.700012</td>\n",
       "      <td>273.450012</td>\n",
       "      <td>242.897705</td>\n",
       "      <td>99305712</td>\n",
       "    </tr>\n",
       "  </tbody>\n",
       "</table>\n",
       "</div>"
      ],
      "text/plain": [
       "         Date        Open        High         Low       Close   Adj Close  \\\n",
       "0  2013-09-16  282.665985  286.269012  278.001007  282.112000  250.591934   \n",
       "1  2013-09-17  281.927002  282.204010  273.013000  276.200012  245.340515   \n",
       "2  2013-09-18  284.000000  297.295013  275.350006  277.200012  246.228760   \n",
       "3  2013-09-19  282.200012  282.200012  277.500000  278.299988  247.205795   \n",
       "4  2013-09-20  277.850006  277.950012  272.700012  273.450012  242.897705   \n",
       "\n",
       "     Volume  \n",
       "0  53489132  \n",
       "1  73143097  \n",
       "2  75208440  \n",
       "3  81062189  \n",
       "4  99305712  "
      ]
     },
     "execution_count": 10,
     "metadata": {},
     "output_type": "execute_result"
    }
   ],
   "source": [
    "\n",
    "df = pd.read_csv('market_data/BARC.L.csv')\n",
    "df.head()"
   ]
  },
  {
   "cell_type": "code",
   "execution_count": 11,
   "metadata": {},
   "outputs": [
    {
     "data": {
      "text/plain": [
       "0    250.591934\n",
       "1    245.340515\n",
       "2    246.228760\n",
       "3    247.205795\n",
       "4    242.897705\n",
       "Name: Adj Close, dtype: float64"
      ]
     },
     "execution_count": 11,
     "metadata": {},
     "output_type": "execute_result"
    }
   ],
   "source": [
    "\n",
    "close_series = df['Adj Close']\n",
    "close_series[:5]"
   ]
  },
  {
   "cell_type": "code",
   "execution_count": 12,
   "metadata": {},
   "outputs": [
    {
     "data": {
      "text/plain": [
       "0            NaN\n",
       "1      -2.095606\n",
       "2       0.362046\n",
       "3       0.396800\n",
       "4      -1.742714\n",
       "5      -2.596450\n",
       "6       1.914774\n",
       "7       0.571000\n",
       "8      -1.391941\n",
       "9      -1.263003\n",
       "10     -0.112873\n",
       "11      1.619586\n",
       "12      1.019263\n",
       "13      0.165125\n",
       "14     -0.604392\n",
       "15      0.442212\n",
       "16     -1.596008\n",
       "17     -0.149146\n",
       "18      2.501867\n",
       "19      1.275045\n",
       "20     -0.413658\n",
       "21      1.083593\n",
       "22      1.357888\n",
       "23     -1.886143\n",
       "24     -0.161682\n",
       "25     -1.115719\n",
       "26     -0.782539\n",
       "27     -1.614065\n",
       "28     -0.652492\n",
       "29      0.544193\n",
       "          ...   \n",
       "1234   -2.691705\n",
       "1235    1.157926\n",
       "1236   -0.074189\n",
       "1237    0.424267\n",
       "1238    1.985632\n",
       "1239    0.461654\n",
       "1240   -2.015666\n",
       "1241   -1.673417\n",
       "1242   -0.292679\n",
       "1243   -2.261363\n",
       "1244    1.323687\n",
       "1245    0.230548\n",
       "1246    0.613360\n",
       "1247    0.370125\n",
       "1248    0.433841\n",
       "1249   -1.112310\n",
       "1250    0.283939\n",
       "1251    0.021776\n",
       "1252   -1.230264\n",
       "1253   -1.730599\n",
       "1254   -1.458220\n",
       "1255    1.035861\n",
       "1256    1.971609\n",
       "1257   -1.668326\n",
       "1258   -1.011238\n",
       "1259   -0.964811\n",
       "1260    1.318053\n",
       "1261   -1.165157\n",
       "1262   -1.442145\n",
       "1263   -0.011615\n",
       "Name: Adj Close, Length: 1264, dtype: float64"
      ]
     },
     "execution_count": 12,
     "metadata": {},
     "output_type": "execute_result"
    }
   ],
   "source": [
    "\n",
    "# note that shift is applied to second argument as series is ascending\n",
    "# express returns as percentage\n",
    "returns_series = (close_series/close_series.shift(1)-1) * 100\n",
    "returns_series"
   ]
  },
  {
   "cell_type": "code",
   "execution_count": 13,
   "metadata": {},
   "outputs": [
    {
     "data": {
      "text/plain": [
       "count    1263.000000\n",
       "mean       -0.012465\n",
       "std         1.840747\n",
       "min       -17.678528\n",
       "25%        -0.990814\n",
       "50%         0.000000\n",
       "75%         0.923227\n",
       "max         8.200400\n",
       "Name: Adj Close, dtype: float64"
      ]
     },
     "execution_count": 13,
     "metadata": {},
     "output_type": "execute_result"
    }
   ],
   "source": [
    "\n",
    "returns_series.describe()"
   ]
  },
  {
   "cell_type": "code",
   "execution_count": 14,
   "metadata": {},
   "outputs": [
    {
     "name": "stdout",
     "output_type": "stream",
     "text": [
      "Ttest_1sampResult(statistic=-0.24048528435308453, pvalue=0.8099931601242323)\n"
     ]
    }
   ],
   "source": [
    "# see if the mean return is statistically significant from 0\n",
    "# perform two-sided T-test for ONE group of scores\n",
    "print(stats.ttest_1samp(returns_series[1:-1],0.0))"
   ]
  },
  {
   "cell_type": "code",
   "execution_count": null,
   "metadata": {},
   "outputs": [],
   "source": [
    "\n",
    "# The low t-statistic and high p-value show there is no significant statistical difference between\n",
    "# the returns given by barclays from a mean of 0. There is no strong evidence against the null hypothesis."
   ]
  },
  {
   "cell_type": "raw",
   "metadata": {},
   "source": []
  },
  {
   "cell_type": "code",
   "execution_count": null,
   "metadata": {},
   "outputs": [],
   "source": []
  },
  {
   "cell_type": "code",
   "execution_count": null,
   "metadata": {},
   "outputs": [],
   "source": []
  }
 ],
 "metadata": {
  "kernelspec": {
   "display_name": "Python 3",
   "language": "python",
   "name": "python3"
  },
  "language_info": {
   "codemirror_mode": {
    "name": "ipython",
    "version": 3
   },
   "file_extension": ".py",
   "mimetype": "text/x-python",
   "name": "python",
   "nbconvert_exporter": "python",
   "pygments_lexer": "ipython3",
   "version": "3.6.5"
  }
 },
 "nbformat": 4,
 "nbformat_minor": 2
}

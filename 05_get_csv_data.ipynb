{
 "cells": [
  {
   "cell_type": "markdown",
   "metadata": {},
   "source": [
    "\n",
    "Name: CSV data retrieving functions\n",
    "    \n",
    "Author: Nyasha Masamba\n",
    "    \n",
    "Get data from CSV files, ready for manipulation with Python tools."
   ]
  },
  {
   "cell_type": "code",
   "execution_count": 2,
   "metadata": {},
   "outputs": [],
   "source": [
    "\n",
    "import pandas as pd"
   ]
  },
  {
   "cell_type": "code",
   "execution_count": 6,
   "metadata": {},
   "outputs": [],
   "source": [
    "\n",
    "# Method 1: use read_csv\n",
    "# import 5 years worth of BARC (LSE-listed) stock data\n",
    "barc_data1 = pd.read_csv('market_data/BARC.L.csv')"
   ]
  },
  {
   "cell_type": "code",
   "execution_count": 7,
   "metadata": {},
   "outputs": [
    {
     "data": {
      "text/html": [
       "<div>\n",
       "<style scoped>\n",
       "    .dataframe tbody tr th:only-of-type {\n",
       "        vertical-align: middle;\n",
       "    }\n",
       "\n",
       "    .dataframe tbody tr th {\n",
       "        vertical-align: top;\n",
       "    }\n",
       "\n",
       "    .dataframe thead th {\n",
       "        text-align: right;\n",
       "    }\n",
       "</style>\n",
       "<table border=\"1\" class=\"dataframe\">\n",
       "  <thead>\n",
       "    <tr style=\"text-align: right;\">\n",
       "      <th></th>\n",
       "      <th>Date</th>\n",
       "      <th>Open</th>\n",
       "      <th>High</th>\n",
       "      <th>Low</th>\n",
       "      <th>Close</th>\n",
       "      <th>Adj Close</th>\n",
       "      <th>Volume</th>\n",
       "    </tr>\n",
       "  </thead>\n",
       "  <tbody>\n",
       "    <tr>\n",
       "      <th>0</th>\n",
       "      <td>2013-09-16</td>\n",
       "      <td>282.665985</td>\n",
       "      <td>286.269012</td>\n",
       "      <td>278.001007</td>\n",
       "      <td>282.112000</td>\n",
       "      <td>250.591934</td>\n",
       "      <td>53489132</td>\n",
       "    </tr>\n",
       "    <tr>\n",
       "      <th>1</th>\n",
       "      <td>2013-09-17</td>\n",
       "      <td>281.927002</td>\n",
       "      <td>282.204010</td>\n",
       "      <td>273.013000</td>\n",
       "      <td>276.200012</td>\n",
       "      <td>245.340515</td>\n",
       "      <td>73143097</td>\n",
       "    </tr>\n",
       "    <tr>\n",
       "      <th>2</th>\n",
       "      <td>2013-09-18</td>\n",
       "      <td>284.000000</td>\n",
       "      <td>297.295013</td>\n",
       "      <td>275.350006</td>\n",
       "      <td>277.200012</td>\n",
       "      <td>246.228760</td>\n",
       "      <td>75208440</td>\n",
       "    </tr>\n",
       "    <tr>\n",
       "      <th>3</th>\n",
       "      <td>2013-09-19</td>\n",
       "      <td>282.200012</td>\n",
       "      <td>282.200012</td>\n",
       "      <td>277.500000</td>\n",
       "      <td>278.299988</td>\n",
       "      <td>247.205795</td>\n",
       "      <td>81062189</td>\n",
       "    </tr>\n",
       "    <tr>\n",
       "      <th>4</th>\n",
       "      <td>2013-09-20</td>\n",
       "      <td>277.850006</td>\n",
       "      <td>277.950012</td>\n",
       "      <td>272.700012</td>\n",
       "      <td>273.450012</td>\n",
       "      <td>242.897705</td>\n",
       "      <td>99305712</td>\n",
       "    </tr>\n",
       "  </tbody>\n",
       "</table>\n",
       "</div>"
      ],
      "text/plain": [
       "         Date        Open        High         Low       Close   Adj Close  \\\n",
       "0  2013-09-16  282.665985  286.269012  278.001007  282.112000  250.591934   \n",
       "1  2013-09-17  281.927002  282.204010  273.013000  276.200012  245.340515   \n",
       "2  2013-09-18  284.000000  297.295013  275.350006  277.200012  246.228760   \n",
       "3  2013-09-19  282.200012  282.200012  277.500000  278.299988  247.205795   \n",
       "4  2013-09-20  277.850006  277.950012  272.700012  273.450012  242.897705   \n",
       "\n",
       "     Volume  \n",
       "0  53489132  \n",
       "1  73143097  \n",
       "2  75208440  \n",
       "3  81062189  \n",
       "4  99305712  "
      ]
     },
     "execution_count": 7,
     "metadata": {},
     "output_type": "execute_result"
    }
   ],
   "source": [
    "\n",
    "barc_data1[:5]"
   ]
  },
  {
   "cell_type": "code",
   "execution_count": 10,
   "metadata": {},
   "outputs": [],
   "source": [
    "\n",
    "# Method 2: use read_table (also from pandas library)\n",
    "barc_data2 = pd.read_table('market_data/BARC.L.csv', sep=',')"
   ]
  },
  {
   "cell_type": "code",
   "execution_count": 11,
   "metadata": {},
   "outputs": [
    {
     "data": {
      "text/html": [
       "<div>\n",
       "<style scoped>\n",
       "    .dataframe tbody tr th:only-of-type {\n",
       "        vertical-align: middle;\n",
       "    }\n",
       "\n",
       "    .dataframe tbody tr th {\n",
       "        vertical-align: top;\n",
       "    }\n",
       "\n",
       "    .dataframe thead th {\n",
       "        text-align: right;\n",
       "    }\n",
       "</style>\n",
       "<table border=\"1\" class=\"dataframe\">\n",
       "  <thead>\n",
       "    <tr style=\"text-align: right;\">\n",
       "      <th></th>\n",
       "      <th>Date</th>\n",
       "      <th>Open</th>\n",
       "      <th>High</th>\n",
       "      <th>Low</th>\n",
       "      <th>Close</th>\n",
       "      <th>Adj Close</th>\n",
       "      <th>Volume</th>\n",
       "    </tr>\n",
       "  </thead>\n",
       "  <tbody>\n",
       "    <tr>\n",
       "      <th>0</th>\n",
       "      <td>2013-09-16</td>\n",
       "      <td>282.665985</td>\n",
       "      <td>286.269012</td>\n",
       "      <td>278.001007</td>\n",
       "      <td>282.112000</td>\n",
       "      <td>250.591934</td>\n",
       "      <td>53489132</td>\n",
       "    </tr>\n",
       "    <tr>\n",
       "      <th>1</th>\n",
       "      <td>2013-09-17</td>\n",
       "      <td>281.927002</td>\n",
       "      <td>282.204010</td>\n",
       "      <td>273.013000</td>\n",
       "      <td>276.200012</td>\n",
       "      <td>245.340515</td>\n",
       "      <td>73143097</td>\n",
       "    </tr>\n",
       "    <tr>\n",
       "      <th>2</th>\n",
       "      <td>2013-09-18</td>\n",
       "      <td>284.000000</td>\n",
       "      <td>297.295013</td>\n",
       "      <td>275.350006</td>\n",
       "      <td>277.200012</td>\n",
       "      <td>246.228760</td>\n",
       "      <td>75208440</td>\n",
       "    </tr>\n",
       "    <tr>\n",
       "      <th>3</th>\n",
       "      <td>2013-09-19</td>\n",
       "      <td>282.200012</td>\n",
       "      <td>282.200012</td>\n",
       "      <td>277.500000</td>\n",
       "      <td>278.299988</td>\n",
       "      <td>247.205795</td>\n",
       "      <td>81062189</td>\n",
       "    </tr>\n",
       "    <tr>\n",
       "      <th>4</th>\n",
       "      <td>2013-09-20</td>\n",
       "      <td>277.850006</td>\n",
       "      <td>277.950012</td>\n",
       "      <td>272.700012</td>\n",
       "      <td>273.450012</td>\n",
       "      <td>242.897705</td>\n",
       "      <td>99305712</td>\n",
       "    </tr>\n",
       "  </tbody>\n",
       "</table>\n",
       "</div>"
      ],
      "text/plain": [
       "         Date        Open        High         Low       Close   Adj Close  \\\n",
       "0  2013-09-16  282.665985  286.269012  278.001007  282.112000  250.591934   \n",
       "1  2013-09-17  281.927002  282.204010  273.013000  276.200012  245.340515   \n",
       "2  2013-09-18  284.000000  297.295013  275.350006  277.200012  246.228760   \n",
       "3  2013-09-19  282.200012  282.200012  277.500000  278.299988  247.205795   \n",
       "4  2013-09-20  277.850006  277.950012  272.700012  273.450012  242.897705   \n",
       "\n",
       "     Volume  \n",
       "0  53489132  \n",
       "1  73143097  \n",
       "2  75208440  \n",
       "3  81062189  \n",
       "4  99305712  "
      ]
     },
     "execution_count": 11,
     "metadata": {},
     "output_type": "execute_result"
    }
   ],
   "source": [
    "\n",
    "barc_data2[:5]"
   ]
  },
  {
   "cell_type": "code",
   "execution_count": 13,
   "metadata": {},
   "outputs": [],
   "source": [
    "\n",
    "# Method 3: download directly from the site using the URL\n",
    "# This method will require some data cleaning and parsing\n",
    "url = 'https://uk.finance.yahoo.com/quote/BARC.L/history?period1=1536447600&period2=1536879600&interval=1d&filter=history&frequency=1d'\n",
    "barc_data3 = pd.read_html(url)"
   ]
  },
  {
   "cell_type": "code",
   "execution_count": 14,
   "metadata": {},
   "outputs": [
    {
     "data": {
      "text/plain": [
       "[                                                Date    Open    High     Low  \\\n",
       " 0                                        13 Sep 2018  172.64  174.32  171.74   \n",
       " 1                                        12 Sep 2018  174.50  174.74  171.74   \n",
       " 2                                        11 Sep 2018  176.58  176.80  173.70   \n",
       " 3                                        10 Sep 2018  174.64  177.26  173.50   \n",
       " 4  *Close price adjusted for splits.**Adjusted cl...     NaN     NaN     NaN   \n",
       " \n",
       "    Close*  Adj. close**       Volume  \n",
       " 0  172.20        172.20   37694060.0  \n",
       " 1  172.22        172.22   44363997.0  \n",
       " 2  174.74        174.74   46928387.0  \n",
       " 3  176.80        176.80  108272589.0  \n",
       " 4     NaN           NaN          NaN  ,\n",
       "                                                    0   1\n",
       " 0  By using Yahoo you agree that Yahoo and partne... NaN\n",
       " 1  *Close price adjusted for splits.**Adjusted cl... NaN]"
      ]
     },
     "execution_count": 14,
     "metadata": {},
     "output_type": "execute_result"
    }
   ],
   "source": [
    "\n",
    "# downloaded 5 days worth of BARC data directly from Yahoo Finance\n",
    "barc_data3"
   ]
  },
  {
   "cell_type": "code",
   "execution_count": null,
   "metadata": {},
   "outputs": [],
   "source": []
  }
 ],
 "metadata": {
  "kernelspec": {
   "display_name": "Python 3",
   "language": "python",
   "name": "python3"
  },
  "language_info": {
   "codemirror_mode": {
    "name": "ipython",
    "version": 3
   },
   "file_extension": ".py",
   "mimetype": "text/x-python",
   "name": "python",
   "nbconvert_exporter": "python",
   "pygments_lexer": "ipython3",
   "version": "3.6.5"
  }
 },
 "nbformat": 4,
 "nbformat_minor": 2
}

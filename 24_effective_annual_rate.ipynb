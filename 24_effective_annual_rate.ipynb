{
 "cells": [
  {
   "cell_type": "code",
   "execution_count": 1,
   "metadata": {},
   "outputs": [],
   "source": [
    "\n",
    "import scipy as sp"
   ]
  },
  {
   "cell_type": "code",
   "execution_count": 4,
   "metadata": {},
   "outputs": [],
   "source": [
    "interest_rate = 0.045\n",
    "compounding_frequency = 12 #monthly\n",
    "period = 30 # 30 years\n",
    "value = 240000\n",
    "deposit = 0.2\n",
    "\n"
   ]
  },
  {
   "cell_type": "code",
   "execution_count": 5,
   "metadata": {},
   "outputs": [
    {
     "data": {
      "text/plain": [
       "-972.8357948657007"
      ]
     },
     "execution_count": 5,
     "metadata": {},
     "output_type": "execute_result"
    }
   ],
   "source": [
    "# interest_rate/compounding_freq = effective monthly rate\n",
    "sp.pmt(interest_rate/compounding_frequency, period*compounding_frequency, value*(1-deposit))\n",
    "\n",
    "# 972.83 is the monthly payment on a mortgage given for a property valued at 240000, \n",
    "# 20% deposit down, paid monthly over 30 years"
   ]
  },
  {
   "cell_type": "code",
   "execution_count": 6,
   "metadata": {},
   "outputs": [
    {
     "data": {
      "text/plain": [
       "-1974.9361860969684"
      ]
     },
     "execution_count": 6,
     "metadata": {},
     "output_type": "execute_result"
    }
   ],
   "source": [
    "# to compare payment if the interest was compounded less frequently, use effective annual rate (EAR)\n",
    "# e.g. if interest rate was 0.04 but compounded quarterly, which rate is cheaper?\n",
    "\n",
    "sp.pmt(0.04/4, period*compounding_frequency, value*(1-deposit))"
   ]
  },
  {
   "cell_type": "code",
   "execution_count": 7,
   "metadata": {},
   "outputs": [
    {
     "data": {
      "text/plain": [
       "0.04593982504058958"
      ]
     },
     "execution_count": 7,
     "metadata": {},
     "output_type": "execute_result"
    }
   ],
   "source": [
    "\n",
    "# Converting both to EAR: choice 1\n",
    "(1+0.045/12)**12-1"
   ]
  },
  {
   "cell_type": "code",
   "execution_count": 8,
   "metadata": {},
   "outputs": [
    {
     "data": {
      "text/plain": [
       "0.040604010000000024"
      ]
     },
     "execution_count": 8,
     "metadata": {},
     "output_type": "execute_result"
    }
   ],
   "source": [
    "\n",
    "# Converting both to EAR: choice 2\n",
    "(1+0.04/4)**4-1"
   ]
  },
  {
   "cell_type": "code",
   "execution_count": null,
   "metadata": {},
   "outputs": [],
   "source": [
    "\n",
    "# Clearly, the second option is cheaper as the EAR is 0.04 against the first option which has an EAR of 0.046\n",
    "# This can be checked by multiplying 972*4 and realising it would be more than the second choice's payment per quarter "
   ]
  }
 ],
 "metadata": {
  "kernelspec": {
   "display_name": "Python 3",
   "language": "python",
   "name": "python3"
  },
  "language_info": {
   "codemirror_mode": {
    "name": "ipython",
    "version": 3
   },
   "file_extension": ".py",
   "mimetype": "text/x-python",
   "name": "python",
   "nbconvert_exporter": "python",
   "pygments_lexer": "ipython3",
   "version": "3.6.5"
  }
 },
 "nbformat": 4,
 "nbformat_minor": 2
}

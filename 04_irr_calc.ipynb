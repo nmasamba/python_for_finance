{
 "cells": [
  {
   "cell_type": "markdown",
   "metadata": {},
   "source": [
    "\n",
    "Name: Internal Rate of Return Calculator\n",
    "    \n",
    "Author: Nyasha Masamba\n",
    "    \n",
    "Given a sequence of cash flows, find the IRR,r, which makes the NPV = 0. Since the direction of cash flows changes twice, there might be two different rates making NPV = 0. Hence, we write two functions to compute those possible rates."
   ]
  },
  {
   "cell_type": "code",
   "execution_count": 31,
   "metadata": {},
   "outputs": [],
   "source": [
    "\n",
    "r = 0\n",
    "cf = [550, -500, -500, -500, 1000]\n",
    "\n",
    "def npv_f(rate, cashflows):\n",
    "    total = 0.9\n",
    "    for i, cashflow in enumerate(cashflows):\n",
    "        total += cashflow / (1+rate) ** i\n",
    "    return total\n",
    "\n",
    "def irr_f_1(rate, cashflows):\n",
    "    while (rate < 1.0):\n",
    "        rate += 0.000001\n",
    "        npv = npv_f(rate, cashflows)\n",
    "        if (abs(npv) <= 0.0001):\n",
    "            return rate\n",
    "        \n",
    "def irr_f_2(rate, cashflows):\n",
    "    while (rate < 1.0):\n",
    "        rate += 0.000001\n",
    "        npv = npv_f(rate, cashflows)\n",
    "        if (npv <= 0.0001):\n",
    "            return rate"
   ]
  },
  {
   "cell_type": "code",
   "execution_count": 32,
   "metadata": {},
   "outputs": [
    {
     "data": {
      "text/plain": [
       "0.3328129999980136"
      ]
     },
     "execution_count": 32,
     "metadata": {},
     "output_type": "execute_result"
    }
   ],
   "source": [
    "irr_f_1(r, cf)"
   ]
  },
  {
   "cell_type": "code",
   "execution_count": 33,
   "metadata": {},
   "outputs": [
    {
     "data": {
      "text/plain": [
       "0.07369000000005303"
      ]
     },
     "execution_count": 33,
     "metadata": {},
     "output_type": "execute_result"
    }
   ],
   "source": [
    "irr_f_2(r, cf)"
   ]
  },
  {
   "cell_type": "code",
   "execution_count": null,
   "metadata": {},
   "outputs": [],
   "source": []
  }
 ],
 "metadata": {
  "kernelspec": {
   "display_name": "Python 3",
   "language": "python",
   "name": "python3"
  },
  "language_info": {
   "codemirror_mode": {
    "name": "ipython",
    "version": 3
   },
   "file_extension": ".py",
   "mimetype": "text/x-python",
   "name": "python",
   "nbconvert_exporter": "python",
   "pygments_lexer": "ipython3",
   "version": "3.6.5"
  }
 },
 "nbformat": 4,
 "nbformat_minor": 2
}

{
 "cells": [
  {
   "cell_type": "code",
   "execution_count": 1,
   "metadata": {},
   "outputs": [],
   "source": [
    "\n",
    "import pandas as pd\n",
    "from scipy import stats\n",
    "import numpy as np\n",
    "import matplotlib.pyplot as plt\n",
    "import matplotlib.mlab as mlab"
   ]
  },
  {
   "cell_type": "code",
   "execution_count": 2,
   "metadata": {},
   "outputs": [],
   "source": [
    "\n",
    "#beg_date = datetime.datetime(2012, 1, 5)\n",
    "#end_date = datetime.datetime(2012, 12, 1)\n",
    "#df = dataRetrieve.get_data_yahoo('IBM') # always worth trying both yahoo and google in case one fails\n",
    "#df.head()"
   ]
  },
  {
   "cell_type": "code",
   "execution_count": 3,
   "metadata": {},
   "outputs": [
    {
     "data": {
      "text/html": [
       "<div>\n",
       "<style scoped>\n",
       "    .dataframe tbody tr th:only-of-type {\n",
       "        vertical-align: middle;\n",
       "    }\n",
       "\n",
       "    .dataframe tbody tr th {\n",
       "        vertical-align: top;\n",
       "    }\n",
       "\n",
       "    .dataframe thead th {\n",
       "        text-align: right;\n",
       "    }\n",
       "</style>\n",
       "<table border=\"1\" class=\"dataframe\">\n",
       "  <thead>\n",
       "    <tr style=\"text-align: right;\">\n",
       "      <th></th>\n",
       "      <th>Date</th>\n",
       "      <th>Open</th>\n",
       "      <th>High</th>\n",
       "      <th>Low</th>\n",
       "      <th>Close</th>\n",
       "      <th>Adj Close</th>\n",
       "      <th>Volume</th>\n",
       "    </tr>\n",
       "  </thead>\n",
       "  <tbody>\n",
       "    <tr>\n",
       "      <th>0</th>\n",
       "      <td>2013-09-16</td>\n",
       "      <td>282.665985</td>\n",
       "      <td>286.269012</td>\n",
       "      <td>278.001007</td>\n",
       "      <td>282.112000</td>\n",
       "      <td>250.591934</td>\n",
       "      <td>53489132</td>\n",
       "    </tr>\n",
       "    <tr>\n",
       "      <th>1</th>\n",
       "      <td>2013-09-17</td>\n",
       "      <td>281.927002</td>\n",
       "      <td>282.204010</td>\n",
       "      <td>273.013000</td>\n",
       "      <td>276.200012</td>\n",
       "      <td>245.340515</td>\n",
       "      <td>73143097</td>\n",
       "    </tr>\n",
       "    <tr>\n",
       "      <th>2</th>\n",
       "      <td>2013-09-18</td>\n",
       "      <td>284.000000</td>\n",
       "      <td>297.295013</td>\n",
       "      <td>275.350006</td>\n",
       "      <td>277.200012</td>\n",
       "      <td>246.228760</td>\n",
       "      <td>75208440</td>\n",
       "    </tr>\n",
       "    <tr>\n",
       "      <th>3</th>\n",
       "      <td>2013-09-19</td>\n",
       "      <td>282.200012</td>\n",
       "      <td>282.200012</td>\n",
       "      <td>277.500000</td>\n",
       "      <td>278.299988</td>\n",
       "      <td>247.205795</td>\n",
       "      <td>81062189</td>\n",
       "    </tr>\n",
       "    <tr>\n",
       "      <th>4</th>\n",
       "      <td>2013-09-20</td>\n",
       "      <td>277.850006</td>\n",
       "      <td>277.950012</td>\n",
       "      <td>272.700012</td>\n",
       "      <td>273.450012</td>\n",
       "      <td>242.897705</td>\n",
       "      <td>99305712</td>\n",
       "    </tr>\n",
       "  </tbody>\n",
       "</table>\n",
       "</div>"
      ],
      "text/plain": [
       "         Date        Open        High         Low       Close   Adj Close  \\\n",
       "0  2013-09-16  282.665985  286.269012  278.001007  282.112000  250.591934   \n",
       "1  2013-09-17  281.927002  282.204010  273.013000  276.200012  245.340515   \n",
       "2  2013-09-18  284.000000  297.295013  275.350006  277.200012  246.228760   \n",
       "3  2013-09-19  282.200012  282.200012  277.500000  278.299988  247.205795   \n",
       "4  2013-09-20  277.850006  277.950012  272.700012  273.450012  242.897705   \n",
       "\n",
       "     Volume  \n",
       "0  53489132  \n",
       "1  73143097  \n",
       "2  75208440  \n",
       "3  81062189  \n",
       "4  99305712  "
      ]
     },
     "execution_count": 3,
     "metadata": {},
     "output_type": "execute_result"
    }
   ],
   "source": [
    "\n",
    "df = pd.read_csv('market_data/BARC.L.csv')\n",
    "df.head()"
   ]
  },
  {
   "cell_type": "code",
   "execution_count": 4,
   "metadata": {},
   "outputs": [
    {
     "data": {
      "text/plain": [
       "0    250.591934\n",
       "1    245.340515\n",
       "2    246.228760\n",
       "3    247.205795\n",
       "4    242.897705\n",
       "Name: Adj Close, dtype: float64"
      ]
     },
     "execution_count": 4,
     "metadata": {},
     "output_type": "execute_result"
    }
   ],
   "source": [
    "\n",
    "close_series = df['Adj Close']\n",
    "close_series[:5]"
   ]
  },
  {
   "cell_type": "code",
   "execution_count": 19,
   "metadata": {},
   "outputs": [
    {
     "data": {
      "text/plain": [
       "0            NaN\n",
       "1      -0.020956\n",
       "2       0.003620\n",
       "3       0.003968\n",
       "4      -0.017427\n",
       "5      -0.025964\n",
       "6       0.019148\n",
       "7       0.005710\n",
       "8      -0.013919\n",
       "9      -0.012630\n",
       "10     -0.001129\n",
       "11      0.016196\n",
       "12      0.010193\n",
       "13      0.001651\n",
       "14     -0.006044\n",
       "15      0.004422\n",
       "16     -0.015960\n",
       "17     -0.001491\n",
       "18      0.025019\n",
       "19      0.012750\n",
       "20     -0.004137\n",
       "21      0.010836\n",
       "22      0.013579\n",
       "23     -0.018861\n",
       "24     -0.001617\n",
       "25     -0.011157\n",
       "26     -0.007825\n",
       "27     -0.016141\n",
       "28     -0.006525\n",
       "29      0.005442\n",
       "          ...   \n",
       "1234   -0.026917\n",
       "1235    0.011579\n",
       "1236   -0.000742\n",
       "1237    0.004243\n",
       "1238    0.019856\n",
       "1239    0.004617\n",
       "1240   -0.020157\n",
       "1241   -0.016734\n",
       "1242   -0.002927\n",
       "1243   -0.022614\n",
       "1244    0.013237\n",
       "1245    0.002305\n",
       "1246    0.006134\n",
       "1247    0.003701\n",
       "1248    0.004338\n",
       "1249   -0.011123\n",
       "1250    0.002839\n",
       "1251    0.000218\n",
       "1252   -0.012303\n",
       "1253   -0.017306\n",
       "1254   -0.014582\n",
       "1255    0.010359\n",
       "1256    0.019716\n",
       "1257   -0.016683\n",
       "1258   -0.010112\n",
       "1259   -0.009648\n",
       "1260    0.013181\n",
       "1261   -0.011652\n",
       "1262   -0.014421\n",
       "1263   -0.000116\n",
       "Name: Adj Close, Length: 1264, dtype: float64"
      ]
     },
     "execution_count": 19,
     "metadata": {},
     "output_type": "execute_result"
    }
   ],
   "source": [
    "\n",
    "# note that shift is applied to second argument as series is ascending\n",
    "# express returns as percentage\n",
    "returns_series = (close_series/close_series.shift(1)-1)\n",
    "returns_series"
   ]
  },
  {
   "cell_type": "code",
   "execution_count": 20,
   "metadata": {},
   "outputs": [
    {
     "data": {
      "text/plain": [
       "count    1263.000000\n",
       "mean       -0.000125\n",
       "std         0.018407\n",
       "min        -0.176785\n",
       "25%        -0.009908\n",
       "50%         0.000000\n",
       "75%         0.009232\n",
       "max         0.082004\n",
       "Name: Adj Close, dtype: float64"
      ]
     },
     "execution_count": 20,
     "metadata": {},
     "output_type": "execute_result"
    }
   ],
   "source": [
    "\n",
    "returns_series.describe()"
   ]
  },
  {
   "cell_type": "code",
   "execution_count": 23,
   "metadata": {},
   "outputs": [
    {
     "data": {
      "image/png": "[encoded data removed]",
      "text/plain": [
       "<Figure size 432x288 with 1 Axes>"
      ]
     },
     "metadata": {},
     "output_type": "display_data"
    }
   ],
   "source": [
    "# histogram parameters\n",
    "[n,bins,patches] = plt.hist(returns_series[1:], 1000)\n",
    "mu = np.mean(returns_series)\n",
    "sigma = np.std(returns_series)\n",
    "x = stats.norm.pdf(bins, mu, sigma)\n",
    "\n",
    "# plot return distribution histogram with normal dist\n",
    "plt.plot(bins, x, color='red', lw=2)\n",
    "plt.title('BARC Returns Distribution')\n",
    "plt.xlabel('Returns')\n",
    "plt.ylabel('Frequency')\n",
    "plt.show()\n",
    "\n"
   ]
  },
  {
   "cell_type": "code",
   "execution_count": null,
   "metadata": {},
   "outputs": [],
   "source": []
  },
  {
   "cell_type": "code",
   "execution_count": null,
   "metadata": {},
   "outputs": [],
   "source": []
  }
 ],
 "metadata": {
  "kernelspec": {
   "display_name": "Python 3",
   "language": "python",
   "name": "python3"
  },
  "language_info": {
   "codemirror_mode": {
    "name": "ipython",
    "version": 3
   },
   "file_extension": ".py",
   "mimetype": "text/x-python",
   "name": "python",
   "nbconvert_exporter": "python",
   "pygments_lexer": "ipython3",
   "version": "3.6.5"
  }
 },
 "nbformat": 4,
 "nbformat_minor": 2
}
